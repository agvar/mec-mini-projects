{
 "cells": [
  {
   "cell_type": "markdown",
   "metadata": {},
   "source": [
    "## Parkinsons Disease Data Analysis\n",
    "\n",
    "Abstract: Oxford Parkinson's Disease Detection Dataset\n",
    "\n",
    "-----------------------------------------------------\t\n",
    "\n",
    "Data Set Characteristics: Multivariate  \n",
    "Number of Instances: 197  \n",
    "Number of Attributes: 23  \n",
    "\n",
    "-----------------------------------------------------\t\n",
    "\n",
    "\n",
    "### Dataset Description\n",
    "This dataset is composed of a range of biomedical voice measurements from \n",
    "31 people, 23 with Parkinson's disease (PD).  \n",
    "Each column in the table is a \n",
    "particular voice measure, and each row corresponds one of 195 voice \n",
    "recording from these individuals (\"name\" column).  \n",
    "The main aim of the data \n",
    "is to discriminate healthy people from those with PD, according to \"status\" \n",
    "column which is set to 0 for healthy and 1 for PD.\n",
    "\n",
    "#### Attribute Information:\n",
    "\n",
    "Matrix column entries (attributes):  \n",
    "**name**- ASCII subject name and recording number  \n",
    "**MDVP:Fo(Hz)** - Average vocal fundamental frequency  \n",
    "**MDVP:Fhi(Hz)** - Maximum vocal fundamental frequency  \n",
    "**MDVP:Flo(Hz)** - Minimum vocal fundamental frequency  \n",
    "**MDVP:Jitter(%),MDVP:Jitter(Abs),MDVP:RAP,MDVP:PPQ,Jitter:DDP** - Several \n",
    "measures of variation in fundamental frequency  \n",
    "**MDVP:Shimmer,MDVP:Shimmer(dB),Shimmer:APQ3,Shimmer:APQ5,MDVP:APQ,Shimmer:DDA** - Several measures of variation in amplitude  \n",
    "**NHR,HNR** - Two measures of ratio of noise to tonal components in the voice  \n",
    "**status**- Health status of the subject (one) - Parkinson's, (zero) - healthy  \n",
    "**RPDE,D2** - Two nonlinear dynamical complexity measures  \n",
    "**DFA**- Signal fractal scaling exponent  \n",
    "**spread1,spread2,PPE** - Three nonlinear measures of fundamental frequency variation  \n",
    "\n",
    "#### Citation \n",
    "'Exploiting Nonlinear Recurrence and Fractal Scaling Properties for Voice Disorder Detection', \n",
    "Little MA, McSharry PE, Roberts SJ, Costello DAE, Moroz IM. \n",
    "BioMedical Engineering OnLine 2007, 6:23 (26 June 2007)If you use this dataset, please cite the following paper: \n",
    "'Exploiting Nonlinear Recurrence and Fractal Scaling Properties for Voice Disorder Detection', \n",
    "Little MA, McSharry PE, Roberts SJ, Costello DAE, Moroz IM. \n",
    "BioMedical Engineering OnLine 2007, 6:23 (26 June 2007)  \n",
    "\n",
    "##### Source:\n",
    "\n",
    "The dataset was created by Max Little of the University of Oxford, in \n",
    "collaboration with the National Centre for Voice and Speech, Denver, \n",
    "Colorado, who recorded the speech signals. The original study published the \n",
    "feature extraction methods for general voice disorders."
   ]
  },
  {
   "cell_type": "code",
   "execution_count": null,
   "metadata": {},
   "outputs": [],
   "source": [
    "import numpy as np\n",
    "import pandas as pd\n",
    "%matplotlib inline"
   ]
  },
  {
   "cell_type": "code",
   "execution_count": 8,
   "metadata": {},
   "outputs": [],
   "source": [
    "df=pd.read_csv(\"E:\\python_projects\\Springboard\\datasets\\parkinsons.data\",sep=\",\",header=0)"
   ]
  },
  {
   "cell_type": "code",
   "execution_count": 12,
   "metadata": {},
   "outputs": [
    {
     "name": "stdout",
     "output_type": "stream",
     "text": [
      "<class 'pandas.core.frame.DataFrame'>\n",
      "RangeIndex: 195 entries, 0 to 194\n",
      "Data columns (total 24 columns):\n",
      " #   Column            Non-Null Count  Dtype  \n",
      "---  ------            --------------  -----  \n",
      " 0   name              195 non-null    object \n",
      " 1   MDVP:Fo(Hz)       195 non-null    float64\n",
      " 2   MDVP:Fhi(Hz)      195 non-null    float64\n",
      " 3   MDVP:Flo(Hz)      195 non-null    float64\n",
      " 4   MDVP:Jitter(%)    195 non-null    float64\n",
      " 5   MDVP:Jitter(Abs)  195 non-null    float64\n",
      " 6   MDVP:RAP          195 non-null    float64\n",
      " 7   MDVP:PPQ          195 non-null    float64\n",
      " 8   Jitter:DDP        195 non-null    float64\n",
      " 9   MDVP:Shimmer      195 non-null    float64\n",
      " 10  MDVP:Shimmer(dB)  195 non-null    float64\n",
      " 11  Shimmer:APQ3      195 non-null    float64\n",
      " 12  Shimmer:APQ5      195 non-null    float64\n",
      " 13  MDVP:APQ          195 non-null    float64\n",
      " 14  Shimmer:DDA       195 non-null    float64\n",
      " 15  NHR               195 non-null    float64\n",
      " 16  HNR               195 non-null    float64\n",
      " 17  status            195 non-null    int64  \n",
      " 18  RPDE              195 non-null    float64\n",
      " 19  DFA               195 non-null    float64\n",
      " 20  spread1           195 non-null    float64\n",
      " 21  spread2           195 non-null    float64\n",
      " 22  D2                195 non-null    float64\n",
      " 23  PPE               195 non-null    float64\n",
      "dtypes: float64(22), int64(1), object(1)\n",
      "memory usage: 36.7+ KB\n"
     ]
    }
   ],
   "source": [
    "df.info()"
   ]
  },
  {
   "cell_type": "code",
   "execution_count": null,
   "metadata": {},
   "outputs": [],
   "source": []
  }
 ],
 "metadata": {
  "kernelspec": {
   "display_name": "Python (MEC Mini Projects)",
   "language": "python",
   "name": "venv"
  },
  "language_info": {
   "codemirror_mode": {
    "name": "ipython",
    "version": 3
   },
   "file_extension": ".py",
   "mimetype": "text/x-python",
   "name": "python",
   "nbconvert_exporter": "python",
   "pygments_lexer": "ipython3",
   "version": "3.7.4"
  }
 },
 "nbformat": 4,
 "nbformat_minor": 4
}

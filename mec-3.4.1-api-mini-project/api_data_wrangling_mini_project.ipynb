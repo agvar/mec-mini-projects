{
 "cells": [
  {
   "cell_type": "markdown",
   "metadata": {},
   "source": [
    "This exercise will require you to pull some data from https://data.nasdaq.com/ (formerly Quandl API)."
   ]
  },
  {
   "cell_type": "markdown",
   "metadata": {},
   "source": [
    "As a first step, you will need to register a free account on the https://data.nasdaq.com/ website."
   ]
  },
  {
   "cell_type": "markdown",
   "metadata": {},
   "source": [
    "After you register, you will be provided with a unique API key, that you should store:\r\n",
    "\r\n",
    "*Note*: Use a `.env` file and put your key in there and `python-dotenv` to access it in this notebook. \r\n",
    "\r\n",
    "The code below uses a key that was used when generating this project but has since been deleted. Never submit your keys to source control. There is a `.env-example` file in this repository to illusrtate what you need. Copy that to a file called `.env` and use your own api key in that `.env` file. Make sure you also have a `.gitignore` file with a line for `.env` added to it. \r\n",
    "\r\n",
    "The standard Python gitignore is [here](https://github.com/github/gitignore/blob/master/Python.gitignore) you can just copy that. "
   ]
  },
  {
   "cell_type": "code",
   "execution_count": 1,
   "metadata": {},
   "outputs": [],
   "source": [
    "# get api key from your .env file\n",
    "import os\n",
    "from dotenv import load_dotenv  # if missing this module, simply run `pip install python-dotenv`\n",
    "\n",
    "load_dotenv()\n",
    "API_KEY = os.getenv('NASDAQ_API_KEY')\n"
   ]
  },
  {
   "cell_type": "markdown",
   "metadata": {},
   "source": [
    "Nasdaq Data has a large number of data sources, but, unfortunately, most of them require a Premium subscription. Still, there are also a good number of free datasets."
   ]
  },
  {
   "cell_type": "markdown",
   "metadata": {},
   "source": [
    "For this mini project, we will focus on equities data from the Frankfurt Stock Exhange (FSE), which is available for free. We'll try and analyze the stock prices of a company called Carl Zeiss Meditec, which manufactures tools for eye examinations, as well as medical lasers for laser eye surgery: https://www.zeiss.com/meditec/int/home.html. The company is listed under the stock ticker AFX_X."
   ]
  },
  {
   "cell_type": "markdown",
   "metadata": {},
   "source": [
    "You can find the detailed Nasdaq Data API instructions here: https://docs.data.nasdaq.com/docs/in-depth-usage"
   ]
  },
  {
   "cell_type": "markdown",
   "metadata": {},
   "source": [
    "While there is a dedicated Python package for connecting to the Nasdaq API, we would prefer that you use the *requests* package, which can be easily downloaded using *pip* or *conda*. You can find the documentation for the package here: http://docs.python-requests.org/en/master/ "
   ]
  },
  {
   "cell_type": "markdown",
   "metadata": {},
   "source": [
    "Finally, apart from the *requests* package, you are encouraged to not use any third party Python packages, such as *pandas*, and instead focus on what's available in the Python Standard Library (the *collections* module might come in handy: https://pymotw.com/3/collections/).\n",
    "Also, since you won't have access to DataFrames, you are encouraged to us Python's native data structures - preferably dictionaries, though some questions can also be answered using lists.\n",
    "You can read more on these data structures here: https://docs.python.org/3/tutorial/datastructures.html"
   ]
  },
  {
   "cell_type": "markdown",
   "metadata": {},
   "source": [
    "Keep in mind that the JSON responses you will be getting from the API map almost one-to-one to Python's dictionaries. Unfortunately, they can be very nested, so make sure you read up on indexing dictionaries in the documentation provided above."
   ]
  },
  {
   "cell_type": "code",
   "execution_count": 5,
   "metadata": {},
   "outputs": [],
   "source": [
    "# First, import the relevant modules\n",
    "import os\n",
    "import requests\n",
    "import json\n",
    "from dotenv import load_dotenv\n",
    "\n",
    "load_dotenv()\n",
    "API_KEY=os.getenv('NASDAQ_API_KEY')"
   ]
  },
  {
   "cell_type": "markdown",
   "metadata": {},
   "source": [
    "Note: API's can change a bit with each version, for this exercise it is reccomended to use the nasdaq api at `https://data.nasdaq.com/api/v3/`. This is the same api as what used to be quandl so `https://www.quandl.com/api/v3/` should work too.\r\n",
    "\r\n",
    "Hint: We are looking for the `AFX_X` data on the `datasets/FSE/` dataset."
   ]
  },
  {
   "cell_type": "code",
   "execution_count": 16,
   "metadata": {},
   "outputs": [
    {
     "name": "stdout",
     "output_type": "stream",
     "text": [
      "b'{\"dataset_data\":{\"limit\":1,\"transform\":null,\"column_index\":null,\"column_names\":[\"Date\",\"Open\",\"High\",\"Low\",\"Close\",\"Change\",\"Traded Volume\",\"Turnover\",\"Last Price of the Day\",\"Daily Traded Units\",\"Daily Turnover\"],\"start_date\":\"2017-01-01\",\"end_date\":\"2017-12-31\",\"frequency\":\"daily\",\"data\":[[\"2017-12-29\",51.76,51.94,51.45,51.76,null,34640.0,1792304.0,null,null,null]],\"collapse\":null,\"order\":null}}'\n"
     ]
    }
   ],
   "source": [
    "# Now, call the Nasdaq API and pull out a small sample of the data (only one day) to get a glimpse\n",
    "# into the JSON structure that will be returned\n",
    "start_date='2017-01-01'\n",
    "end_date = '2017-12-31'\n",
    "base_url = \"https://data.nasdaq.com/api/v3/datasets/FSE/AFX_X/data.json\"\n",
    "params={'api_key':API_KEY,'start_date':start_date,'end_date':end_date,'limit':1}\n",
    "response=requests.get(base_url,params=params)\n",
    "print(response.content)"
   ]
  },
  {
   "cell_type": "code",
   "execution_count": 10,
   "metadata": {},
   "outputs": [],
   "source": [
    "# Inspect the JSON structure of the object you created, and take note of how nested it is,\n",
    "# as well as the overall structure"
   ]
  },
  {
   "cell_type": "markdown",
   "metadata": {},
   "source": [
    "These are your tasks for this mini project:\n",
    "\n",
    "1. Collect data from the Franfurt Stock Exchange, for the ticker AFX_X, for the whole year 2017 (keep in mind that the date format is YYYY-MM-DD).\n",
    "2. Convert the returned JSON object into a Python dictionary.\n",
    "3. Calculate what the highest and lowest opening prices were for the stock in this period.\n",
    "4. What was the largest change in any one day (based on High and Low price)?\n",
    "5. What was the largest change between any two days (based on Closing Price)?\n",
    "6. What was the average daily trading volume during this year?\n",
    "7. (Optional) What was the median trading volume during this year. (Note: you may need to implement your own function for calculating the median.)"
   ]
  },
  {
   "cell_type": "markdown",
   "metadata": {},
   "source": [
    "### Solution\n",
    "1. The start and end dates, api key parameters, url variables are defined.\n",
    "2. The response is converted to a python dictionary.\n",
    "3. Lists 'column_names' and 'data' are used to store the column names and the values of the fields respectively"
   ]
  },
  {
   "cell_type": "code",
   "execution_count": 18,
   "metadata": {},
   "outputs": [],
   "source": [
    "start_date='2017-01-01'\n",
    "end_date = '2017-12-31'\n",
    "base_url = \"https://data.nasdaq.com/api/v3/datasets/FSE/AFX_X/data.json\"\n",
    "params={'api_key':API_KEY,'start_date':start_date,'end_date':end_date}\n",
    "response=requests.get(base_url,params=params)\n",
    "data=json.loads(response.content)\n",
    "column_names=data['dataset_data']['column_names']\n",
    "data=data['dataset_data']['data']"
   ]
  },
  {
   "cell_type": "code",
   "execution_count": 26,
   "metadata": {},
   "outputs": [
    {
     "name": "stdout",
     "output_type": "stream",
     "text": [
      "Date\n",
      "Open\n",
      "High\n",
      "Low\n",
      "Close\n",
      "Change\n",
      "Traded Volume\n",
      "Turnover\n",
      "Last Price of the Day\n",
      "Daily Traded Units\n",
      "Daily Turnover\n"
     ]
    }
   ],
   "source": [
    "#### List of column names in the response\n",
    "for col in column_names:\n",
    "    print(col)"
   ]
  },
  {
   "cell_type": "markdown",
   "metadata": {},
   "source": [
    "\n",
    "4. Lists are created for all records in the api response, for the following column values\n",
    "    1. open_prices- list of 'Open' price per day \n",
    "    2. day_diff - list of difference between 'High' and 'Low' per day\n",
    "    2. closing_price-  list of closing price per day\n",
    "    3. traded_volume- list of 'Traded Volume' per day\n",
    "\n",
    "    "
   ]
  },
  {
   "cell_type": "code",
   "execution_count": 34,
   "metadata": {},
   "outputs": [],
   "source": [
    "    open_prices=[]\n",
    "    day_diff=[]\n",
    "    closing_price=[]\n",
    "    traded_volume=[]"
   ]
  },
  {
   "cell_type": "markdown",
   "metadata": {},
   "source": [
    "6. The index values for the 'High', 'Low','Close' and 'Traded Volume' are assigned to variables. These index values are used to loop through the data list to apppend values to the different field lists"
   ]
  },
  {
   "cell_type": "code",
   "execution_count": 32,
   "metadata": {},
   "outputs": [],
   "source": [
    "    for i in range(len(column_names)):\n",
    "        if column_names[i] == 'Open':\n",
    "            idx_open = i\n",
    "        if column_names[i] == 'Close':\n",
    "            idx_close = i\n",
    "        if column_names[i] == 'Traded Volume':\n",
    "            idx_tradedv = i\n",
    "        if column_names[i] == 'High':\n",
    "            idx_high = i\n",
    "        if column_names[i] == 'Low':\n",
    "            idx_low = i"
   ]
  },
  {
   "cell_type": "markdown",
   "metadata": {},
   "source": [
    "7. The different values are calculated from the created lists ."
   ]
  },
  {
   "cell_type": "code",
   "execution_count": 33,
   "metadata": {},
   "outputs": [
    {
     "name": "stdout",
     "output_type": "stream",
     "text": [
      "Lowest opening price : 34.0\n",
      "Highest opening price :53.11\n",
      "largest change in any one day (based on High and Low price) : 2.81\n",
      "argest change between any two days (based on Closing Price) : 19.03\n",
      "Average daily trading volume during this year : 89124.34\n",
      "median trading volume during this year : 76286.0\n"
     ]
    }
   ],
   "source": [
    "    for data_row in data:\n",
    "        if data_row[idx_open]:\n",
    "            open_prices.append(data_row[idx_open])\n",
    "        if data_row[idx_high]-data_row[idx_low]:\n",
    "            day_diff.append(data_row[idx_high]-data_row[idx_low])\n",
    "        if data_row[idx_close]:\n",
    "            closing_price.append(data_row[idx_close])\n",
    "        if data_row[idx_tradedv]:\n",
    "            traded_volume.append(data_row[idx_tradedv])\n",
    "\n",
    "    traded_volume.sort()\n",
    "    if len(traded_volume) % 2:\n",
    "\n",
    "        median = traded_volume[len(traded_volume) // 2]\n",
    "    else:\n",
    "        median = (traded_volume[(len(traded_volume) // 2) - 1] + traded_volume[(len(traded_volume) // 2)]) / 2\n",
    "\n",
    "\n",
    "    print(f\"Lowest opening price : {round(min(open_prices),2)}\")\n",
    "    print(f\"Highest opening price :{round(max(open_prices),2)}\")\n",
    "    print(f\"largest change in any one day (based on High and Low price) : {round(max(day_diff),2)}\")\n",
    "    print(f\"argest change between any two days (based on Closing Price) : {round(max(closing_price)-min(closing_price),2)}\")\n",
    "    print(f\"Average daily trading volume during this year : {round(sum(traded_volume)/len(traded_volume),2)}\")\n",
    "    print(f\"median trading volume during this year : {round(median,2)}\")"
   ]
  },
  {
   "cell_type": "code",
   "execution_count": null,
   "metadata": {},
   "outputs": [],
   "source": []
  }
 ],
 "metadata": {
  "interpreter": {
   "hash": "4885f37acae9217c235118400878352aafa7b76e66df698a1f601374f86939a7"
  },
  "kernelspec": {
   "display_name": "Python_projects_kernel",
   "language": "python",
   "name": "venv"
  },
  "language_info": {
   "codemirror_mode": {
    "name": "ipython",
    "version": 3
   },
   "file_extension": ".py",
   "mimetype": "text/x-python",
   "name": "python",
   "nbconvert_exporter": "python",
   "pygments_lexer": "ipython3",
   "version": "3.7.4"
  }
 },
 "nbformat": 4,
 "nbformat_minor": 4
}
